{
 "cells": [
  {
   "cell_type": "markdown",
   "id": "12811b99-8c76-43ab-8566-b72dd2e1d590",
   "metadata": {},
   "source": [
    "### OOPS Task Assesment Solution"
   ]
  },
  {
   "cell_type": "markdown",
   "id": "8d0d2dcb-c0db-4a5d-b1ad-2f3318073fbd",
   "metadata": {},
   "source": [
    "Q1 ."
   ]
  },
  {
   "cell_type": "code",
   "execution_count": 7,
   "id": "63d095c9-e3d1-40e5-9896-2ec0829cf291",
   "metadata": {},
   "outputs": [],
   "source": [
    "    class vehicle :\n",
    "\n",
    "        def __init__(self, name_of_vehicle, max_speed, average_of_vehicle) :\n",
    "            self.name_of_vehicle = name_of_vehicle\n",
    "            self.max_speed = max_speed\n",
    "            self.average_of_vehicle = average_of_vehicle\n",
    "        \n",
    "    def vehicle_info (self) :\n",
    "        print(self.name_of_vehicle,self.max_speed, self.average_of_vehicle)"
   ]
  },
  {
   "cell_type": "code",
   "execution_count": 8,
   "id": "b67dd241-669a-4954-a717-67339b1d0c46",
   "metadata": {},
   "outputs": [],
   "source": [
    "baby = vehicle('Pulser', 240, 50)"
   ]
  },
  {
   "cell_type": "code",
   "execution_count": 10,
   "id": "96bec2c1-3ca1-4081-a697-f13cff67c433",
   "metadata": {},
   "outputs": [
    {
     "name": "stdout",
     "output_type": "stream",
     "text": [
      "Pulser 240 50\n"
     ]
    }
   ],
   "source": [
    "baby.vehicle_info()"
   ]
  },
  {
   "cell_type": "markdown",
   "id": "9c0422a9-603a-4de3-a4ce-d46d293accce",
   "metadata": {},
   "source": [
    "Q2 ."
   ]
  },
  {
   "cell_type": "code",
   "execution_count": 25,
   "id": "8a7ba589-c8db-4b30-8af4-33048d65e17c",
   "metadata": {},
   "outputs": [],
   "source": [
    "class vehicle :\n",
    "    \n",
    "    def __init__(self, name_of_vehicle, max_speed, average_of_vehicle) :\n",
    "        self.name_of_vehicle = name_of_vehicle\n",
    "        self.max_speed = max_speed\n",
    "        self.average_of_vehicle = average_of_vehicle\n",
    "        \n",
    "class car(vehicle) :\n",
    "    \n",
    "    def seating_capacity(self, capacity) :\n",
    "        return(self.name_of_vehicle, capacity)"
   ]
  },
  {
   "cell_type": "code",
   "execution_count": 26,
   "id": "ea27b996-52f2-42a8-aac0-9a11e3ac5c97",
   "metadata": {},
   "outputs": [],
   "source": [
    "beb1 = car('Honda City', 240, 22)"
   ]
  },
  {
   "cell_type": "code",
   "execution_count": 27,
   "id": "0bf98840-6922-4758-a16c-cb99aecd6757",
   "metadata": {},
   "outputs": [
    {
     "data": {
      "text/plain": [
       "('Honda City', 5)"
      ]
     },
     "execution_count": 27,
     "metadata": {},
     "output_type": "execute_result"
    }
   ],
   "source": [
    "beb1.seating_capacity(5)"
   ]
  },
  {
   "cell_type": "markdown",
   "id": "6ca9eabf-d72e-4bf8-b0c7-15a435f26ef2",
   "metadata": {},
   "source": [
    "Q3 ."
   ]
  },
  {
   "cell_type": "markdown",
   "id": "95eee7b2-aa8e-4cd8-a920-d9dc2bc0d153",
   "metadata": {},
   "source": [
    "To understand Multiple inheritance concept let's take one example, say you and your father, you are the child of your father so you inherit from your father similarly your father is a child of his father and he interit from his father and ultimately you inherit from your father's father i.e your grandfather. Like wise in case of classes, say class B inherits from class A and class C inherits from class B then indirectly class C inherits from class A, that chain is Multiple inheritance. "
   ]
  },
  {
   "cell_type": "code",
   "execution_count": 32,
   "id": "b3bcbeda-6cc3-438b-a18e-d5296533e60f",
   "metadata": {},
   "outputs": [],
   "source": [
    "class A :\n",
    "    \n",
    "    def class_A_Method(self) :\n",
    "        print('this is class- A')\n",
    "        \n",
    "class B(A) :                        #class B inherits class A\n",
    "    \n",
    "    def class_B_Method(self) :\n",
    "        print('this is class- B')\n",
    "        \n",
    "class C(B) :                       #class C inherits class B \n",
    "    \n",
    "    def class_C_mMethod(self) :\n",
    "        print('this is class- C')"
   ]
  },
  {
   "cell_type": "code",
   "execution_count": 29,
   "id": "f958a07c-be5a-4b27-90e5-280d50eff3f9",
   "metadata": {},
   "outputs": [],
   "source": [
    "var = C()     #creating variable for class C"
   ]
  },
  {
   "cell_type": "code",
   "execution_count": 33,
   "id": "7d85609b-b549-487e-bc1b-f8894454ba38",
   "metadata": {},
   "outputs": [
    {
     "name": "stdout",
     "output_type": "stream",
     "text": [
      "this is class- A\n"
     ]
    }
   ],
   "source": [
    "var.class_A_Method()     #class A method able to access to class C because class C belongs to class B and class B belongs to class A"
   ]
  },
  {
   "cell_type": "markdown",
   "id": "3a008a6a-e9d2-4500-b823-88db17c6858d",
   "metadata": {},
   "source": [
    "Q4 ."
   ]
  },
  {
   "cell_type": "markdown",
   "id": "205c563c-9b09-4f84-970a-80055cfde5e6",
   "metadata": {},
   "source": [
    "When we encapsulate/hide the data from the user then getter and setter methods used to retrieve and modify the data to the external user."
   ]
  },
  {
   "cell_type": "code",
   "execution_count": 95,
   "id": "75bc65fb-d61e-4b8d-bd7e-6cf533c7ba5e",
   "metadata": {},
   "outputs": [],
   "source": [
    "## Method 1\n",
    "\n",
    "class person :\n",
    "    \n",
    "    def __init__(self, name, age) :\n",
    "        self.name = name\n",
    "        self.__age = age                     #encapsulation \n",
    "        \n",
    "    def get_age(self) :                      #getting encapsulated values\n",
    "        return (self.__age)\n",
    "    \n",
    "    def set_age(self, value) :               #assigning modified values\n",
    "        self.__age = value\n",
    "        "
   ]
  },
  {
   "cell_type": "code",
   "execution_count": 96,
   "id": "de50ed02-5db7-4726-9a27-5d2872f81e4b",
   "metadata": {},
   "outputs": [],
   "source": [
    "boy = person('Vaibhav', 22)"
   ]
  },
  {
   "cell_type": "code",
   "execution_count": 97,
   "id": "e2eed4b7-996f-41c3-a1ad-471ca1ab4493",
   "metadata": {},
   "outputs": [
    {
     "data": {
      "text/plain": [
       "'Vaibhav'"
      ]
     },
     "execution_count": 97,
     "metadata": {},
     "output_type": "execute_result"
    }
   ],
   "source": [
    "boy.name    #age is not accesible here means age is encapsulated"
   ]
  },
  {
   "cell_type": "code",
   "execution_count": 98,
   "id": "5fe0e30a-ba7e-4c1a-9683-1e8b26b6a93d",
   "metadata": {},
   "outputs": [
    {
     "data": {
      "text/plain": [
       "22"
      ]
     },
     "execution_count": 98,
     "metadata": {},
     "output_type": "execute_result"
    }
   ],
   "source": [
    "boy.get_age()"
   ]
  },
  {
   "cell_type": "code",
   "execution_count": 99,
   "id": "9a48cb04-0298-4241-b1ba-8e3c5d17684e",
   "metadata": {},
   "outputs": [],
   "source": [
    "boy.set_age(21)"
   ]
  },
  {
   "cell_type": "code",
   "execution_count": 100,
   "id": "654eadb6-96e6-4007-a4bb-2d77ab547a99",
   "metadata": {},
   "outputs": [
    {
     "data": {
      "text/plain": [
       "21"
      ]
     },
     "execution_count": 100,
     "metadata": {},
     "output_type": "execute_result"
    }
   ],
   "source": [
    "boy.get_age()"
   ]
  },
  {
   "cell_type": "code",
   "execution_count": 101,
   "id": "d6523086-3320-4693-8ee0-4b24ca33e13c",
   "metadata": {},
   "outputs": [],
   "source": [
    "## Method 2\n",
    "\n",
    "class person :\n",
    "    \n",
    "    def __init__(self, name, age) :\n",
    "        self.name = name\n",
    "        self.__age = age                     #encapsulation \n",
    "    \n",
    "    @property\n",
    "    def get_age(self) :                      #getting encapsulated values\n",
    "        return (self.__age)\n",
    "    \n",
    "    @get_age.setter\n",
    "    def set_age(self, value) :               #assigning modified values\n",
    "        self.__age = value"
   ]
  },
  {
   "cell_type": "markdown",
   "id": "f08907b4-9a6f-4534-812c-3f88ed11fdd1",
   "metadata": {},
   "source": [
    "Q5 ."
   ]
  },
  {
   "cell_type": "markdown",
   "id": "f2b5877d-5cdf-4d11-bb16-a932f8f2095a",
   "metadata": {},
   "source": [
    "Method of overriding is a method to defining a method in the subclass with the same name and signature as the method in the superclass."
   ]
  },
  {
   "cell_type": "code",
   "execution_count": 102,
   "id": "f1abd40c-bff9-436a-9242-1f42aa4a23af",
   "metadata": {},
   "outputs": [],
   "source": [
    "class Joint_account :\n",
    "    \n",
    "    def cash_withdraw(self) :\n",
    "        print('Cash withdrawal from the joint account')\n",
    "        \n",
    "class Vaibhav(Joint_account) :\n",
    "    \n",
    "    def cash_withdraw(self) :\n",
    "        print('Vaibhav has withdrwan Rs.2000')\n",
    "        \n",
    "class Manish(Joint_account) :\n",
    "    \n",
    "    def cash_deposite(self) :\n",
    "        pass"
   ]
  },
  {
   "cell_type": "code",
   "execution_count": 103,
   "id": "e5aa3157-f9b4-49c3-90b6-dcf532a70235",
   "metadata": {},
   "outputs": [],
   "source": [
    "Account = Joint_account()    #creating instance of a class\n",
    "vaibhav =Vaibhav()\n",
    "manish = Manish()"
   ]
  },
  {
   "cell_type": "code",
   "execution_count": 104,
   "id": "22c9f831-b06a-4272-8ed0-d4bc3b8cef11",
   "metadata": {},
   "outputs": [
    {
     "name": "stdout",
     "output_type": "stream",
     "text": [
      "Vaibhav has withdrwan Rs.2000\n"
     ]
    }
   ],
   "source": [
    "vaibhav.cash_withdraw()    #It will try to find the method in the subclass first if it will find then it will execute."
   ]
  },
  {
   "cell_type": "code",
   "execution_count": 105,
   "id": "b77abdc1-a38f-452b-921d-26be3a2cdd19",
   "metadata": {},
   "outputs": [
    {
     "name": "stdout",
     "output_type": "stream",
     "text": [
      "Cash withdrawal from the joint account\n"
     ]
    }
   ],
   "source": [
    "manish.cash_withdraw()    #see it moved to the superclass as it does not find the method in subclass"
   ]
  },
  {
   "cell_type": "code",
   "execution_count": null,
   "id": "cb7a8651-aaaf-4b16-9bfa-62653870625a",
   "metadata": {},
   "outputs": [],
   "source": []
  }
 ],
 "metadata": {
  "kernelspec": {
   "display_name": "Python 3 (ipykernel)",
   "language": "python",
   "name": "python3"
  },
  "language_info": {
   "codemirror_mode": {
    "name": "ipython",
    "version": 3
   },
   "file_extension": ".py",
   "mimetype": "text/x-python",
   "name": "python",
   "nbconvert_exporter": "python",
   "pygments_lexer": "ipython3",
   "version": "3.10.8"
  }
 },
 "nbformat": 4,
 "nbformat_minor": 5
}
